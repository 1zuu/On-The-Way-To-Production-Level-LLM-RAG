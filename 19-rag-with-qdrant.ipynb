{
 "cells": [
  {
   "cell_type": "markdown",
   "metadata": {},
   "source": [
    "##### Command to run ->\n",
    "1. docker info\n",
    "2. docker pull qdrant/qdrant \n",
    "3. docker run -p 6333:6333 -v .:/qdrant/storage qdrant/qdrant"
   ]
  },
  {
   "cell_type": "code",
   "execution_count": 8,
   "metadata": {},
   "outputs": [],
   "source": [
    "import os, yaml\n",
    "from qdrant_client import QdrantClient\n",
    "from langchain.vectorstores import Qdrant\n",
    "from langchain.chat_models import AzureChatOpenAI\n",
    "from langchain.document_loaders import PyPDFLoader\n",
    "from langchain.embeddings import HuggingFaceBgeEmbeddings\n",
    "from langchain.text_splitter import RecursiveCharacterTextSplitter"
   ]
  },
  {
   "cell_type": "code",
   "execution_count": 2,
   "metadata": {},
   "outputs": [],
   "source": [
    "with open('cadentials.yaml') as f:\n",
    "    credentials = yaml.load(f, Loader=yaml.FullLoader)\n",
    "\n",
    "os.environ['OPENAI_API_KEY'] = credentials['OPENAI_API_KEY']\n",
    "os.environ['OPENAI_API_TYPE'] = credentials['OPENAI_API_TYPE']\n",
    "os.environ['AZURE_OPENAI_ENDPOINT'] = credentials['AD_OPENAI_API_BASE']\n",
    "os.environ['OPENAI_API_VERSION'] = credentials['AD_OPENAI_API_VERSION']\n",
    "os.environ[\"COHERE_API\"] = credentials['COHERE_API']\n",
    "os.environ['ENGINE'] = credentials['ENGINE']"
   ]
  },
  {
   "cell_type": "code",
   "execution_count": 3,
   "metadata": {},
   "outputs": [
    {
     "name": "stderr",
     "output_type": "stream",
     "text": [
      "/Users/1zuu/miniforge3/envs/llamaindex/lib/python3.9/site-packages/tqdm/auto.py:21: TqdmWarning: IProgress not found. Please update jupyter and ipywidgets. See https://ipywidgets.readthedocs.io/en/stable/user_install.html\n",
      "  from .autonotebook import tqdm as notebook_tqdm\n"
     ]
    }
   ],
   "source": [
    "embedding = HuggingFaceBgeEmbeddings(\n",
    "                                    model_name=\"BAAI/bge-small-en-v1.5\",\n",
    "                                    model_kwargs={'device': 'mps'},\n",
    "                                    encode_kwargs={'normalize_embeddings': True}\n",
    "                                    )\n",
    "\n",
    "llm = AzureChatOpenAI(\n",
    "                    deployment_name=credentials['AD_DEPLOYMENT_ID'],\n",
    "                    model_name=credentials['AD_ENGINE'],\n",
    "                    temperature=0.9, \n",
    "                    max_tokens=256\n",
    "                    )"
   ]
  },
  {
   "cell_type": "code",
   "execution_count": 7,
   "metadata": {},
   "outputs": [
    {
     "name": "stdout",
     "output_type": "stream",
     "text": [
      "Vector DB Successfully Created!\n"
     ]
    }
   ],
   "source": [
    "loader = PyPDFLoader(\"data/political/UN SDG.pdf\")\n",
    "documents = loader.load()\n",
    "text_splitter = RecursiveCharacterTextSplitter(\n",
    "                                                chunk_size=1000,\n",
    "                                                chunk_overlap=100\n",
    "                                                )\n",
    "texts = text_splitter.split_documents(documents)\n",
    "\n",
    "embeddings = HuggingFaceBgeEmbeddings(\n",
    "                                    model_name=\"BAAI/bge-small-en\",\n",
    "                                    model_kwargs={'device': 'mps'},\n",
    "                                    encode_kwargs={'normalize_embeddings': False}\n",
    "                                    )\n",
    "\n",
    "url = \"http://localhost:6333\"\n",
    "qdrant = Qdrant.from_documents(\n",
    "                            texts,\n",
    "                            embeddings,\n",
    "                            url=url,\n",
    "                            prefer_grpc=False,\n",
    "                            collection_name=\"vector_db\"\n",
    "                            )\n",
    "\n",
    "print(\"Vector DB Successfully Created!\")"
   ]
  },
  {
   "cell_type": "code",
   "execution_count": null,
   "metadata": {},
   "outputs": [],
   "source": [
    "client = QdrantClient(\n",
    "                    url=\"http://localhost:6333\", \n",
    "                    prefer_grpc=False\n",
    "                    )\n",
    "\n",
    "db = Qdrant(\n",
    "            client=client, \n",
    "            embeddings=embeddings, \n",
    "            collection_name=\"vector_db\"\n",
    "            )\n",
    "\n",
    "query = \"<Pass Your Query>\"\n",
    "\n",
    "docs = db.similarity_search_with_score(query=query, k=5)\n",
    "for i in docs:\n",
    "    doc, score = i\n",
    "    print({\"score\": score, \"content\": doc.page_content, \"metadata\": doc.metadata})"
   ]
  }
 ],
 "metadata": {
  "kernelspec": {
   "display_name": "llamaindex",
   "language": "python",
   "name": "python3"
  },
  "language_info": {
   "codemirror_mode": {
    "name": "ipython",
    "version": 3
   },
   "file_extension": ".py",
   "mimetype": "text/x-python",
   "name": "python",
   "nbconvert_exporter": "python",
   "pygments_lexer": "ipython3",
   "version": "3.9.18"
  }
 },
 "nbformat": 4,
 "nbformat_minor": 2
}
